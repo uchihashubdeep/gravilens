{
 "cells": [
  {
   "cell_type": "code",
   "execution_count": 1,
   "metadata": {},
   "outputs": [
    {
     "name": "stdout",
     "output_type": "stream",
     "text": [
      "0\n"
     ]
    }
   ],
   "source": [
    "##########################################################################\n",
    "\n",
    "import sympy\n",
    "import gravipy\n",
    "# import numpy as np\n",
    "\n",
    "from sympy import *\n",
    "from gravipy.tensorial import *\n",
    "from sympy import init_printing###\n",
    "import inspect###\n",
    "init_printing()###\n",
    "####from sympy.interactive.printing import init_printing\n",
    "####init_printing(use_unicode=False, wrap_line=False)\n",
    "####from sympy.matrices import Matrix, eye, zeros, ones, diag, GramSchmidt\n",
    "\n",
    "##########################################################################\n",
    "\n",
    "x,y,z = symbols('x,y,z')\n",
    "t, r, theta, phi, M = symbols('t, r, \\\\theta, \\\\phi, M')\n",
    "# M = mass of matter\n",
    "\n",
    "x = Coordinates('\\chi', [t, r, theta, phi])\n",
    "\n",
    "# input the line elements Row-wise \n",
    "\n",
    "Metric = Matrix([[-(1-2*M/r),0,0,0],[0,1/(1-2*M/r),0,0], [0,0,r**2,0], [0,0,0,r**2*sin(theta)**2]])\n",
    "\n",
    "\n",
    "g = MetricTensor('g', x, Metric)\n",
    "\n",
    "#print(\"# g\\n\")\n",
    "#for i in 1,2,3,4:\n",
    "    #for j in 1,2,3,4:\n",
    "        #print(g(i,j))\n",
    "    #print(\"\\n\")\n",
    "    \n",
    "#print(g(All, All))\n",
    "#print(\"__________________________________________________\\n\")\n",
    "\n",
    "##### print([cls.__name__ for cls in vars()['Tensor'].__subclasses__()])\n",
    "\n",
    "# Ga is Christoffel Tensor\n",
    "# indices are 1, 2, 3, 4\n",
    "# for contravariant use '-' sign\n",
    "# eg. print(Ga(-4, 3, 4))\n",
    "\n",
    "#print(\"# Christoffel\\n\")\n",
    "Ga = Christoffel('Ga', g)\n",
    "\n",
    "#### print(\"\\n\")\n",
    "#### print(Ga.components)\n",
    "\n",
    "#for i in 1,2,3,4:\n",
    "    #print(Ga(-1*i,All,All))\n",
    "    #print(\"\\n\")\n",
    "\n",
    "#print(\"_________________________________________________\\n\")\n",
    "\n",
    "#########################################################################\n",
    "#print(\"# Riemann\\n\")\n",
    "Rm = Riemann('Rm', g)\n",
    "#from IPython.display import display, Math\n",
    "#from sympy import latex\n",
    "#for i, j, k, l in list(variations(range(1, 5), 4, True)):\n",
    "    #if Rm(i, j, k, l) != 0 and k<l and i<j:\n",
    "        #display(Math('R_{'+str(i)+str(j)+str(k)+str(l)+'} = '+ latex(Rm(i, j, k, l))))\n",
    "\n",
    "\n",
    "# Ri is Ricci tensor\n",
    "\n",
    "#print(\"# Ricci tensor\\n\")\n",
    "Ri= Ricci('Ri',g)\n",
    "#print(Ri(All,All))\n",
    "#print(\"\\n\")\n",
    "\n",
    "#print(\"# Ricci Scalar \\n\")\n",
    "print(Ri.scalar())\n",
    "#print(\"_________________________________________________\\n\")\n",
    "\n",
    "#########################################################################\n",
    "\n",
    "# G is Einstein Tensor\n",
    "\n",
    "#print(\"# Einstein Tensor\\n\")\n",
    "G = Einstein('G', Ri)\n",
    "#print(G(All,All))\n",
    "#print(\"\\n\")\n",
    "#print(\"_________________________________________________\\n\")\n",
    "\n",
    "#########################################################################\n",
    "\n",
    "# Geodesic Equation from Cristoffel\n",
    "\n",
    "tau = Symbol('\\\\tau')\n",
    "w = Geodesic('w', g, tau)\n",
    "#for i in 1,2,3,4:\n",
    "    #print(w(i).transpose())\n",
    "    #print(\"\\n\")\n",
    "  \n",
    "        \n",
    "#########################################################################\n",
    "\n",
    "# Geodesic Equation from Lagrangian \n",
    "\n",
    "\n",
    "  \n",
    "        \n",
    "#print(\"_________________________________________________\\n\")    \n",
    "\n",
    "#########################################################################        \n",
    "\n",
    "\n",
    "\n",
    "##### print(w(All).transpose())\n",
    "#### print(Parametrization.info())\n",
    "#### print(x(-All))\n",
    "\n",
    "#print(\"_________________________________________________\\n\")"
   ]
  },
  {
   "cell_type": "code",
   "execution_count": null,
   "metadata": {},
   "outputs": [],
   "source": []
  },
  {
   "cell_type": "markdown",
   "metadata": {},
   "source": [
    "\\[All the outputs are below.\\]\n"
   ]
  },
  {
   "cell_type": "markdown",
   "metadata": {},
   "source": [
    "#### List of Variables ( Spherical Polar Coordinates )"
   ]
  },
  {
   "cell_type": "code",
   "execution_count": 2,
   "metadata": {},
   "outputs": [
    {
     "data": {
      "text/latex": [
       "$\\displaystyle \\left[\\begin{matrix}t{\\left(\\tau \\right)} & r{\\left(\\tau \\right)} & \\theta{\\left(\\tau \\right)} & \\phi{\\left(\\tau \\right)}\\end{matrix}\\right]$"
      ],
      "text/plain": [
       "[t(\\tau)  r(\\tau)  \\theta(\\tau)  \\phi(\\tau)]"
      ]
     },
     "execution_count": 2,
     "metadata": {},
     "output_type": "execute_result"
    }
   ],
   "source": [
    "x(-All)"
   ]
  },
  {
   "cell_type": "markdown",
   "metadata": {},
   "source": [
    "#### Metric Tensor"
   ]
  },
  {
   "cell_type": "code",
   "execution_count": 3,
   "metadata": {},
   "outputs": [
    {
     "data": {
      "text/latex": [
       "$\\displaystyle \\left[\\begin{matrix}\\frac{2 M}{r{\\left(\\tau \\right)}} - 1 & 0 & 0 & 0\\\\0 & \\frac{1}{- \\frac{2 M}{r{\\left(\\tau \\right)}} + 1} & 0 & 0\\\\0 & 0 & r^{2}{\\left(\\tau \\right)} & 0\\\\0 & 0 & 0 & r^{2}{\\left(\\tau \\right)} \\sin^{2}{\\left(\\theta{\\left(\\tau \\right)} \\right)}\\end{matrix}\\right]$"
      ],
      "text/plain": [
       "⎡  2⋅M                                                            ⎤\n",
       "⎢─────── - 1        0           0                   0             ⎥\n",
       "⎢r(\\tau)                                                          ⎥\n",
       "⎢                                                                 ⎥\n",
       "⎢                   1                                             ⎥\n",
       "⎢     0       ─────────────     0                   0             ⎥\n",
       "⎢                 2⋅M                                             ⎥\n",
       "⎢             - ─────── + 1                                       ⎥\n",
       "⎢               r(\\tau)                                           ⎥\n",
       "⎢                                                                 ⎥\n",
       "⎢                             2                                   ⎥\n",
       "⎢     0             0        r (\\tau)               0             ⎥\n",
       "⎢                                                                 ⎥\n",
       "⎢                                       2          2              ⎥\n",
       "⎣     0             0           0      r (\\tau)⋅sin (\\theta(\\tau))⎦"
      ]
     },
     "execution_count": 3,
     "metadata": {},
     "output_type": "execute_result"
    }
   ],
   "source": [
    "g(All,All)"
   ]
  },
  {
   "cell_type": "markdown",
   "metadata": {},
   "source": [
    "#### Christoffel Symbol"
   ]
  },
  {
   "cell_type": "code",
   "execution_count": 4,
   "metadata": {},
   "outputs": [
    {
     "data": {
      "text/latex": [
       "$\\displaystyle \\left[\\begin{matrix}\\left[\\begin{matrix}0 & - \\frac{M}{r^{2}{\\left(\\tau \\right)}} & 0 & 0\\\\- \\frac{M}{r^{2}{\\left(\\tau \\right)}} & 0 & 0 & 0\\\\0 & 0 & 0 & 0\\\\0 & 0 & 0 & 0\\end{matrix}\\right] & \\left[\\begin{matrix}\\frac{M}{r^{2}{\\left(\\tau \\right)}} & 0 & 0 & 0\\\\0 & - \\frac{M}{\\left(2 M - r{\\left(\\tau \\right)}\\right)^{2}} & 0 & 0\\\\0 & 0 & - r{\\left(\\tau \\right)} & 0\\\\0 & 0 & 0 & - r{\\left(\\tau \\right)} \\sin^{2}{\\left(\\theta{\\left(\\tau \\right)} \\right)}\\end{matrix}\\right] & \\left[\\begin{matrix}0 & 0 & 0 & 0\\\\0 & 0 & r{\\left(\\tau \\right)} & 0\\\\0 & r{\\left(\\tau \\right)} & 0 & 0\\\\0 & 0 & 0 & - \\frac{r^{2}{\\left(\\tau \\right)} \\sin{\\left(2 \\theta{\\left(\\tau \\right)} \\right)}}{2}\\end{matrix}\\right] & \\left[\\begin{matrix}0 & 0 & 0 & 0\\\\0 & 0 & 0 & r{\\left(\\tau \\right)} \\sin^{2}{\\left(\\theta{\\left(\\tau \\right)} \\right)}\\\\0 & 0 & 0 & \\frac{r^{2}{\\left(\\tau \\right)} \\sin{\\left(2 \\theta{\\left(\\tau \\right)} \\right)}}{2}\\\\0 & r{\\left(\\tau \\right)} \\sin^{2}{\\left(\\theta{\\left(\\tau \\right)} \\right)} & \\frac{r^{2}{\\left(\\tau \\right)} \\sin{\\left(2 \\theta{\\left(\\tau \\right)} \\right)}}{2} & 0\\end{matrix}\\right]\\end{matrix}\\right]$"
      ],
      "text/plain": [
       "⎡                            ⎡   M                                            \n",
       "⎢⎡            -M          ⎤  ⎢────────         0             0                \n",
       "⎢⎢   0      ────────  0  0⎥  ⎢ 2                                              \n",
       "⎢⎢           2            ⎥  ⎢r (\\tau)                                        \n",
       "⎢⎢          r (\\tau)      ⎥  ⎢                                                \n",
       "⎢⎢                        ⎥  ⎢                -M                              \n",
       "⎢⎢  -M                    ⎥  ⎢   0      ────────────────     0                \n",
       "⎢⎢────────     0      0  0⎥  ⎢                         2                      \n",
       "⎢⎢ 2                      ⎥  ⎢          (2⋅M - r(\\tau))                       \n",
       "⎢⎢r (\\tau)                ⎥  ⎢                                                \n",
       "⎢⎢                        ⎥  ⎢   0             0          -r(\\tau)            \n",
       "⎢⎢   0         0      0  0⎥  ⎢                                                \n",
       "⎢⎢                        ⎥  ⎢                                                \n",
       "⎣⎣   0         0      0  0⎦  ⎣   0             0             0      -r(\\tau)⋅s\n",
       "\n",
       "                 ⎤                                                         ⎡0 \n",
       "   0             ⎥                                                         ⎢  \n",
       "                 ⎥  ⎡0     0        0                   0               ⎤  ⎢  \n",
       "                 ⎥  ⎢                                                   ⎥  ⎢0 \n",
       "                 ⎥  ⎢0     0     r(\\tau)                0               ⎥  ⎢  \n",
       "                 ⎥  ⎢                                                   ⎥  ⎢  \n",
       "   0             ⎥  ⎢0  r(\\tau)     0                   0               ⎥  ⎢  \n",
       "                 ⎥  ⎢                                                   ⎥  ⎢0 \n",
       "                 ⎥  ⎢                       2                           ⎥  ⎢  \n",
       "                 ⎥  ⎢                     -r (\\tau)⋅sin(2⋅\\theta(\\tau)) ⎥  ⎢  \n",
       "   0             ⎥  ⎢0     0        0     ──────────────────────────────⎥  ⎢  \n",
       "                 ⎥  ⎣                                   2               ⎦  ⎢  \n",
       "  2              ⎥                                                         ⎢0 \n",
       "in (\\theta(\\tau))⎦                                                         ⎣  \n",
       "\n",
       "             0                            0                             0     \n",
       "                                                                              \n",
       "                                                                       2      \n",
       "             0                            0                 r(\\tau)⋅sin (\\thet\n",
       "                                                                              \n",
       "                                                            2                 \n",
       "                                                           r (\\tau)⋅sin(2⋅\\the\n",
       "             0                            0                ───────────────────\n",
       "                                                                        2     \n",
       "                                                                              \n",
       "                              2                                               \n",
       "            2                r (\\tau)⋅sin(2⋅\\theta(\\tau))                     \n",
       " r(\\tau)⋅sin (\\theta(\\tau))  ────────────────────────────               0     \n",
       "                                          2                                   \n",
       "\n",
       "         ⎤⎤\n",
       "         ⎥⎥\n",
       "         ⎥⎥\n",
       "a(\\tau)) ⎥⎥\n",
       "         ⎥⎥\n",
       "         ⎥⎥\n",
       "ta(\\tau))⎥⎥\n",
       "─────────⎥⎥\n",
       "         ⎥⎥\n",
       "         ⎥⎥\n",
       "         ⎥⎥\n",
       "         ⎥⎥\n",
       "         ⎥⎥\n",
       "         ⎦⎦"
      ]
     },
     "execution_count": 4,
     "metadata": {},
     "output_type": "execute_result"
    }
   ],
   "source": [
    "Ga(All,All,All)"
   ]
  },
  {
   "cell_type": "markdown",
   "metadata": {},
   "source": [
    "#### Riemann Tensor"
   ]
  },
  {
   "cell_type": "code",
   "execution_count": 5,
   "metadata": {},
   "outputs": [
    {
     "name": "stdout",
     "output_type": "stream",
     "text": [
      "\n"
     ]
    },
    {
     "data": {
      "text/latex": [
       "$\\displaystyle \\left[\\begin{matrix}\\left[\\begin{matrix}0 & 0 & 0 & 0\\\\0 & 0 & 0 & 0\\\\0 & 0 & 0 & 0\\\\0 & 0 & 0 & 0\\end{matrix}\\right] & \\left[\\begin{matrix}0 & - \\frac{2 M}{r^{3}{\\left(\\tau \\right)}} & 0 & 0\\\\\\frac{2 M}{r^{3}{\\left(\\tau \\right)}} & 0 & 0 & 0\\\\0 & 0 & 0 & 0\\\\0 & 0 & 0 & 0\\end{matrix}\\right] & \\left[\\begin{matrix}0 & 0 & - \\frac{M \\left(2 M - r{\\left(\\tau \\right)}\\right)}{r^{2}{\\left(\\tau \\right)}} & 0\\\\0 & 0 & 0 & 0\\\\\\frac{M \\left(2 M - r{\\left(\\tau \\right)}\\right)}{r^{2}{\\left(\\tau \\right)}} & 0 & 0 & 0\\\\0 & 0 & 0 & 0\\end{matrix}\\right] & \\left[\\begin{matrix}0 & 0 & 0 & - \\frac{M \\left(2 M - r{\\left(\\tau \\right)}\\right) \\sin^{2}{\\left(\\theta{\\left(\\tau \\right)} \\right)}}{r^{2}{\\left(\\tau \\right)}}\\\\0 & 0 & 0 & 0\\\\0 & 0 & 0 & 0\\\\\\frac{M \\left(2 M - r{\\left(\\tau \\right)}\\right) \\sin^{2}{\\left(\\theta{\\left(\\tau \\right)} \\right)}}{r^{2}{\\left(\\tau \\right)}} & 0 & 0 & 0\\end{matrix}\\right]\\\\\\left[\\begin{matrix}0 & \\frac{2 M}{r^{3}{\\left(\\tau \\right)}} & 0 & 0\\\\- \\frac{2 M}{r^{3}{\\left(\\tau \\right)}} & 0 & 0 & 0\\\\0 & 0 & 0 & 0\\\\0 & 0 & 0 & 0\\end{matrix}\\right] & \\left[\\begin{matrix}0 & 0 & 0 & 0\\\\0 & 0 & 0 & 0\\\\0 & 0 & 0 & 0\\\\0 & 0 & 0 & 0\\end{matrix}\\right] & \\left[\\begin{matrix}0 & 0 & 0 & 0\\\\0 & 0 & \\frac{M}{2 M - r{\\left(\\tau \\right)}} & 0\\\\0 & - \\frac{M}{2 M - r{\\left(\\tau \\right)}} & 0 & 0\\\\0 & 0 & 0 & 0\\end{matrix}\\right] & \\left[\\begin{matrix}0 & 0 & 0 & 0\\\\0 & 0 & 0 & \\frac{M \\sin^{2}{\\left(\\theta{\\left(\\tau \\right)} \\right)}}{2 M - r{\\left(\\tau \\right)}}\\\\0 & 0 & 0 & 0\\\\0 & - \\frac{M \\sin^{2}{\\left(\\theta{\\left(\\tau \\right)} \\right)}}{2 M - r{\\left(\\tau \\right)}} & 0 & 0\\end{matrix}\\right]\\\\\\left[\\begin{matrix}0 & 0 & \\frac{M \\left(2 M - r{\\left(\\tau \\right)}\\right)}{r^{2}{\\left(\\tau \\right)}} & 0\\\\0 & 0 & 0 & 0\\\\- \\frac{M \\left(2 M - r{\\left(\\tau \\right)}\\right)}{r^{2}{\\left(\\tau \\right)}} & 0 & 0 & 0\\\\0 & 0 & 0 & 0\\end{matrix}\\right] & \\left[\\begin{matrix}0 & 0 & 0 & 0\\\\0 & 0 & - \\frac{M}{2 M - r{\\left(\\tau \\right)}} & 0\\\\0 & \\frac{M}{2 M - r{\\left(\\tau \\right)}} & 0 & 0\\\\0 & 0 & 0 & 0\\end{matrix}\\right] & \\left[\\begin{matrix}0 & 0 & 0 & 0\\\\0 & 0 & 0 & 0\\\\0 & 0 & 0 & 0\\\\0 & 0 & 0 & 0\\end{matrix}\\right] & \\left[\\begin{matrix}0 & 0 & 0 & 0\\\\0 & 0 & 0 & 0\\\\0 & 0 & 0 & 2 M r{\\left(\\tau \\right)} \\sin^{2}{\\left(\\theta{\\left(\\tau \\right)} \\right)}\\\\0 & 0 & - 2 M r{\\left(\\tau \\right)} \\sin^{2}{\\left(\\theta{\\left(\\tau \\right)} \\right)} & 0\\end{matrix}\\right]\\\\\\left[\\begin{matrix}0 & 0 & 0 & \\frac{M \\left(2 M - r{\\left(\\tau \\right)}\\right) \\sin^{2}{\\left(\\theta{\\left(\\tau \\right)} \\right)}}{r^{2}{\\left(\\tau \\right)}}\\\\0 & 0 & 0 & 0\\\\0 & 0 & 0 & 0\\\\- \\frac{M \\left(2 M - r{\\left(\\tau \\right)}\\right) \\sin^{2}{\\left(\\theta{\\left(\\tau \\right)} \\right)}}{r^{2}{\\left(\\tau \\right)}} & 0 & 0 & 0\\end{matrix}\\right] & \\left[\\begin{matrix}0 & 0 & 0 & 0\\\\0 & 0 & 0 & - \\frac{M \\sin^{2}{\\left(\\theta{\\left(\\tau \\right)} \\right)}}{2 M - r{\\left(\\tau \\right)}}\\\\0 & 0 & 0 & 0\\\\0 & \\frac{M \\sin^{2}{\\left(\\theta{\\left(\\tau \\right)} \\right)}}{2 M - r{\\left(\\tau \\right)}} & 0 & 0\\end{matrix}\\right] & \\left[\\begin{matrix}0 & 0 & 0 & 0\\\\0 & 0 & 0 & 0\\\\0 & 0 & 0 & - 2 M r{\\left(\\tau \\right)} \\sin^{2}{\\left(\\theta{\\left(\\tau \\right)} \\right)}\\\\0 & 0 & 2 M r{\\left(\\tau \\right)} \\sin^{2}{\\left(\\theta{\\left(\\tau \\right)} \\right)} & 0\\end{matrix}\\right] & \\left[\\begin{matrix}0 & 0 & 0 & 0\\\\0 & 0 & 0 & 0\\\\0 & 0 & 0 & 0\\\\0 & 0 & 0 & 0\\end{matrix}\\right]\\end{matrix}\\right]$"
      ],
      "text/plain": [
       "⎡                                                                             \n",
       "⎢                                                                             \n",
       "⎢                                                                             \n",
       "⎢                                                                             \n",
       "⎢                                    ⎡0  0  0  0⎤                             \n",
       "⎢                                    ⎢          ⎥                             \n",
       "⎢                                    ⎢0  0  0  0⎥                             \n",
       "⎢                                    ⎢          ⎥                             \n",
       "⎢                                    ⎢0  0  0  0⎥                             \n",
       "⎢                                    ⎢          ⎥                             \n",
       "⎢                                    ⎣0  0  0  0⎦                             \n",
       "⎢                                                                             \n",
       "⎢                                                                             \n",
       "⎢                                                                             \n",
       "⎢                                                                             \n",
       "⎢                                                                             \n",
       "⎢                             ⎡            2⋅M         ⎤                      \n",
       "⎢                             ⎢   0      ────────  0  0⎥                      \n",
       "⎢                             ⎢           3            ⎥                      \n",
       "⎢                             ⎢          r (\\tau)      ⎥                      \n",
       "⎢                             ⎢                        ⎥                      \n",
       "⎢                             ⎢ -2⋅M                   ⎥                      \n",
       "⎢                             ⎢────────     0      0  0⎥                      \n",
       "⎢                             ⎢ 3                      ⎥                      \n",
       "⎢                             ⎢r (\\tau)                ⎥                      \n",
       "⎢                             ⎢                        ⎥                      \n",
       "⎢                             ⎢   0         0      0  0⎥                      \n",
       "⎢                             ⎢                        ⎥                      \n",
       "⎢                             ⎣   0         0      0  0⎦                      \n",
       "⎢                                                                             \n",
       "⎢                   ⎡                        M⋅(2⋅M - r(\\tau))   ⎤            \n",
       "⎢                   ⎢         0           0  ─────────────────  0⎥            \n",
       "⎢                   ⎢                              2             ⎥            \n",
       "⎢                   ⎢                             r (\\tau)       ⎥            \n",
       "⎢                   ⎢                                            ⎥            \n",
       "⎢                   ⎢         0           0          0          0⎥            \n",
       "⎢                   ⎢                                            ⎥            \n",
       "⎢                   ⎢-M⋅(2⋅M - r(\\tau))                          ⎥            \n",
       "⎢                   ⎢───────────────────  0          0          0⎥            \n",
       "⎢                   ⎢       2                                    ⎥            \n",
       "⎢                   ⎢      r (\\tau)                              ⎥            \n",
       "⎢                   ⎢                                            ⎥            \n",
       "⎢                   ⎣         0           0          0          0⎦            \n",
       "⎢                                                                             \n",
       "⎢⎡                                                                   2        \n",
       "⎢⎢                                              M⋅(2⋅M - r(\\tau))⋅sin (\\theta(\n",
       "⎢⎢                  0                     0  0  ──────────────────────────────\n",
       "⎢⎢                                                             2              \n",
       "⎢⎢                                                            r (\\tau)        \n",
       "⎢⎢                                                                            \n",
       "⎢⎢                  0                     0  0                   0            \n",
       "⎢⎢                                                                            \n",
       "⎢⎢                  0                     0  0                   0            \n",
       "⎢⎢                                                                            \n",
       "⎢⎢                      2                                                     \n",
       "⎢⎢-M⋅(2⋅M - r(\\tau))⋅sin (\\theta(\\tau))                                       \n",
       "⎢⎢──────────────────────────────────────  0  0                   0            \n",
       "⎢⎢                2                                                           \n",
       "⎣⎣               r (\\tau)                                                     \n",
       "\n",
       "                                                                              \n",
       "                      ⎡           -2⋅M         ⎤                           ⎡  \n",
       "                      ⎢   0      ────────  0  0⎥                           ⎢  \n",
       "                      ⎢           3            ⎥                           ⎢  \n",
       "                      ⎢          r (\\tau)      ⎥                           ⎢  \n",
       "                      ⎢                        ⎥                           ⎢  \n",
       "                      ⎢  2⋅M                   ⎥                           ⎢  \n",
       "                      ⎢────────     0      0  0⎥                           ⎢  \n",
       "                      ⎢ 3                      ⎥                           ⎢M⋅\n",
       "                      ⎢r (\\tau)                ⎥                           ⎢──\n",
       "                      ⎢                        ⎥                           ⎢  \n",
       "                      ⎢   0         0      0  0⎥                           ⎢  \n",
       "                      ⎢                        ⎥                           ⎢  \n",
       "                      ⎣   0         0      0  0⎦                           ⎣  \n",
       "                                                                              \n",
       "                                                                              \n",
       "                                                                              \n",
       "                                                                              \n",
       "                                                                              \n",
       "                             ⎡0  0  0  0⎤                                     \n",
       "                             ⎢          ⎥                                     \n",
       "                             ⎢0  0  0  0⎥                                     \n",
       "                             ⎢          ⎥                                     \n",
       "                             ⎢0  0  0  0⎥                                     \n",
       "                             ⎢          ⎥                                     \n",
       "                             ⎣0  0  0  0⎦                                     \n",
       "                                                                              \n",
       "                                                                              \n",
       "                                                                              \n",
       "                                                                              \n",
       "                                                                              \n",
       "                 ⎡0        0              0        0⎤                         \n",
       "                 ⎢                                  ⎥                         \n",
       "                 ⎢                       -M         ⎥                         \n",
       "                 ⎢0        0        ─────────────  0⎥                         \n",
       "                 ⎢                  2⋅M - r(\\tau)   ⎥                         \n",
       "                 ⎢                                  ⎥                         \n",
       "                 ⎢         M                        ⎥                         \n",
       "                 ⎢0  ─────────────        0        0⎥                         \n",
       "                 ⎢   2⋅M - r(\\tau)                  ⎥                         \n",
       "                 ⎢                                  ⎥                         \n",
       "                 ⎣0        0              0        0⎦                         \n",
       "                                                                              \n",
       "                                                                              \n",
       "      ⎤                                                                       \n",
       "\\tau))⎥  ⎡0           0            0            0           ⎤                 \n",
       "──────⎥  ⎢                                                  ⎥                 \n",
       "      ⎥  ⎢                                  2               ⎥  ⎡0  0          \n",
       "      ⎥  ⎢                            -M⋅sin (\\theta(\\tau)) ⎥  ⎢              \n",
       "      ⎥  ⎢0           0            0  ──────────────────────⎥  ⎢0  0          \n",
       "      ⎥  ⎢                                2⋅M - r(\\tau)     ⎥  ⎢              \n",
       "      ⎥  ⎢                                                  ⎥  ⎢              \n",
       "      ⎥  ⎢0           0            0            0           ⎥  ⎢0  0          \n",
       "      ⎥  ⎢                                                  ⎥  ⎢              \n",
       "      ⎥  ⎢        2                                         ⎥  ⎢              \n",
       "      ⎥  ⎢   M⋅sin (\\theta(\\tau))                           ⎥  ⎣0  0  2⋅M⋅r(\\t\n",
       "      ⎥  ⎢0  ────────────────────  0            0           ⎥                 \n",
       "      ⎥  ⎣      2⋅M - r(\\tau)                               ⎦                 \n",
       "      ⎦                                                                       \n",
       "\n",
       "                                                          ⎡                   \n",
       "                    -M⋅(2⋅M - r(\\tau))    ⎤               ⎢                   \n",
       "      0          0  ───────────────────  0⎥               ⎢                 0 \n",
       "                           2              ⎥               ⎢                   \n",
       "                          r (\\tau)        ⎥               ⎢                   \n",
       "                                          ⎥               ⎢                   \n",
       "      0          0           0           0⎥               ⎢                 0 \n",
       "                                          ⎥               ⎢                   \n",
       "(2⋅M - r(\\tau))                           ⎥               ⎢                 0 \n",
       "───────────────  0           0           0⎥               ⎢                   \n",
       "    2                                     ⎥               ⎢                   \n",
       "   r (\\tau)                               ⎥               ⎢M⋅(2⋅M - r(\\tau))⋅s\n",
       "                                          ⎥               ⎢───────────────────\n",
       "      0          0           0           0⎦               ⎢               2   \n",
       "                                                          ⎣              r (\\t\n",
       "                                                                              \n",
       "                                                                          ⎡0  \n",
       "  ⎡0        0              0        0⎤                                    ⎢   \n",
       "  ⎢                                  ⎥                                    ⎢   \n",
       "  ⎢                        M         ⎥                                    ⎢   \n",
       "  ⎢0        0        ─────────────  0⎥                                    ⎢0  \n",
       "  ⎢                  2⋅M - r(\\tau)   ⎥                                    ⎢   \n",
       "  ⎢                                  ⎥                                    ⎢   \n",
       "  ⎢        -M                        ⎥                                    ⎢0  \n",
       "  ⎢0  ─────────────        0        0⎥                                    ⎢   \n",
       "  ⎢   2⋅M - r(\\tau)                  ⎥                                    ⎢   \n",
       "  ⎢                                  ⎥                                    ⎢   \n",
       "  ⎣0        0              0        0⎦                                    ⎢0  \n",
       "                                                                          ⎣   \n",
       "                                                                              \n",
       "                                                                              \n",
       "                                                                              \n",
       "                                                                ⎡0  0         \n",
       "              ⎡0  0  0  0⎤                                      ⎢             \n",
       "              ⎢          ⎥                                      ⎢0  0         \n",
       "              ⎢0  0  0  0⎥                                      ⎢             \n",
       "              ⎢          ⎥                                      ⎢             \n",
       "              ⎢0  0  0  0⎥                                      ⎢0  0         \n",
       "              ⎢          ⎥                                      ⎢             \n",
       "              ⎣0  0  0  0⎦                                      ⎢             \n",
       "                                                                ⎣0  0  -2⋅M⋅r(\n",
       "                                                                              \n",
       "                                                                              \n",
       "                                                                              \n",
       "                                                                              \n",
       "                                                                              \n",
       "                                                                              \n",
       "      0                                0               ⎤                      \n",
       "                                                       ⎥                      \n",
       "      0                                0               ⎥                      \n",
       "                                                       ⎥                      \n",
       "                                        2              ⎥                      \n",
       "      0                 -2⋅M⋅r(\\tau)⋅sin (\\theta(\\tau))⎥                      \n",
       "                                                       ⎥                      \n",
       "       2                                               ⎥                      \n",
       "au)⋅sin (\\theta(\\tau))                 0               ⎦                      \n",
       "                                                                              \n",
       "                                                                              \n",
       "                                                                              \n",
       "\n",
       "                                               2               ⎤⎤\n",
       "                         -M⋅(2⋅M - r(\\tau))⋅sin (\\theta(\\tau)) ⎥⎥\n",
       "                   0  0  ──────────────────────────────────────⎥⎥\n",
       "                                         2                     ⎥⎥\n",
       "                                        r (\\tau)               ⎥⎥\n",
       "                                                               ⎥⎥\n",
       "                   0  0                    0                   ⎥⎥\n",
       "                                                               ⎥⎥\n",
       "                   0  0                    0                   ⎥⎥\n",
       "                                                               ⎥⎥\n",
       "  2                                                            ⎥⎥\n",
       "in (\\theta(\\tau))                                              ⎥⎥\n",
       "─────────────────  0  0                    0                   ⎥⎥\n",
       "                                                               ⎥⎥\n",
       "au)                                                            ⎦⎥\n",
       "                                                                ⎥\n",
       "          0             0           0          ⎤                ⎥\n",
       "                                               ⎥                ⎥\n",
       "                                2              ⎥                ⎥\n",
       "                           M⋅sin (\\theta(\\tau))⎥                ⎥\n",
       "          0             0  ────────────────────⎥                ⎥\n",
       "                              2⋅M - r(\\tau)    ⎥                ⎥\n",
       "                                               ⎥                ⎥\n",
       "          0             0           0          ⎥                ⎥\n",
       "                                               ⎥                ⎥\n",
       "      2                                        ⎥                ⎥\n",
       "-M⋅sin (\\theta(\\tau))                          ⎥                ⎥\n",
       "──────────────────────  0           0          ⎥                ⎥\n",
       "    2⋅M - r(\\tau)                              ⎦                ⎥\n",
       "                                                                ⎥\n",
       "                                                                ⎥\n",
       "                                                                ⎥\n",
       "        0                               0               ⎤       ⎥\n",
       "                                                        ⎥       ⎥\n",
       "        0                               0               ⎥       ⎥\n",
       "                                                        ⎥       ⎥\n",
       "                                         2              ⎥       ⎥\n",
       "        0                 2⋅M⋅r(\\tau)⋅sin (\\theta(\\tau))⎥       ⎥\n",
       "                                                        ⎥       ⎥\n",
       "         2                                              ⎥       ⎥\n",
       "\\tau)⋅sin (\\theta(\\tau))                0               ⎦       ⎥\n",
       "                                                                ⎥\n",
       "                                                                ⎥\n",
       "                                                                ⎥\n",
       "                                                                ⎥\n",
       "                                                                ⎥\n",
       "                                                                ⎥\n",
       "                                                                ⎥\n",
       "                ⎡0  0  0  0⎤                                    ⎥\n",
       "                ⎢          ⎥                                    ⎥\n",
       "                ⎢0  0  0  0⎥                                    ⎥\n",
       "                ⎢          ⎥                                    ⎥\n",
       "                ⎢0  0  0  0⎥                                    ⎥\n",
       "                ⎢          ⎥                                    ⎥\n",
       "                ⎣0  0  0  0⎦                                    ⎥\n",
       "                                                                ⎥\n",
       "                                                                ⎥\n",
       "                                                                ⎥\n",
       "                                                                ⎦"
      ]
     },
     "execution_count": 5,
     "metadata": {},
     "output_type": "execute_result"
    }
   ],
   "source": [
    "print(\"\")\n",
    "Rm(All,All,All,All)"
   ]
  },
  {
   "cell_type": "markdown",
   "metadata": {},
   "source": [
    "#### Ricci Tensor"
   ]
  },
  {
   "cell_type": "code",
   "execution_count": 6,
   "metadata": {},
   "outputs": [
    {
     "data": {
      "text/latex": [
       "$\\displaystyle \\left[\\begin{matrix}0 & 0 & 0 & 0\\\\0 & 0 & 0 & 0\\\\0 & 0 & 0 & 0\\\\0 & 0 & 0 & 0\\end{matrix}\\right]$"
      ],
      "text/plain": [
       "⎡0  0  0  0⎤\n",
       "⎢          ⎥\n",
       "⎢0  0  0  0⎥\n",
       "⎢          ⎥\n",
       "⎢0  0  0  0⎥\n",
       "⎢          ⎥\n",
       "⎣0  0  0  0⎦"
      ]
     },
     "execution_count": 6,
     "metadata": {},
     "output_type": "execute_result"
    }
   ],
   "source": [
    "Ri(All,All)"
   ]
  },
  {
   "cell_type": "markdown",
   "metadata": {},
   "source": [
    "#### Ricci Scalar"
   ]
  },
  {
   "cell_type": "code",
   "execution_count": 7,
   "metadata": {},
   "outputs": [
    {
     "data": {
      "image/png": "[encoded data removed]",
      "text/latex": [
       "$\\displaystyle 0$"
      ],
      "text/plain": [
       "0"
      ]
     },
     "execution_count": 7,
     "metadata": {},
     "output_type": "execute_result"
    }
   ],
   "source": [
    "Ri.scalar()"
   ]
  },
  {
   "cell_type": "markdown",
   "metadata": {},
   "source": [
    "#### Geodesic Equations"
   ]
  },
  {
   "cell_type": "markdown",
   "metadata": {},
   "source": [
    "###### * Note: if this matrix shows all zero elements. Please Restart the kernel from the menu bar."
   ]
  },
  {
   "cell_type": "code",
   "execution_count": 8,
   "metadata": {},
   "outputs": [
    {
     "data": {
      "text/latex": [
       "$\\displaystyle \\left[\\begin{matrix}- \\frac{2 M \\frac{d}{d \\tau} r{\\left(\\tau \\right)} \\frac{d}{d \\tau} t{\\left(\\tau \\right)}}{r^{2}{\\left(\\tau \\right)}} + \\left(\\frac{2 M}{r{\\left(\\tau \\right)}} - 1\\right) \\frac{d^{2}}{d \\tau^{2}} t{\\left(\\tau \\right)}\\\\\\frac{M \\left(\\frac{d}{d \\tau} t{\\left(\\tau \\right)}\\right)^{2}}{r^{2}{\\left(\\tau \\right)}} - \\frac{M \\left(\\frac{d}{d \\tau} r{\\left(\\tau \\right)}\\right)^{2}}{\\left(- \\frac{2 M}{r{\\left(\\tau \\right)}} + 1\\right)^{2} r^{2}{\\left(\\tau \\right)}} - r{\\left(\\tau \\right)} \\sin^{2}{\\left(\\theta{\\left(\\tau \\right)} \\right)} \\left(\\frac{d}{d \\tau} \\phi{\\left(\\tau \\right)}\\right)^{2} - r{\\left(\\tau \\right)} \\left(\\frac{d}{d \\tau} \\theta{\\left(\\tau \\right)}\\right)^{2} + \\frac{\\frac{d^{2}}{d \\tau^{2}} r{\\left(\\tau \\right)}}{- \\frac{2 M}{r{\\left(\\tau \\right)}} + 1}\\\\- r^{2}{\\left(\\tau \\right)} \\sin{\\left(\\theta{\\left(\\tau \\right)} \\right)} \\cos{\\left(\\theta{\\left(\\tau \\right)} \\right)} \\left(\\frac{d}{d \\tau} \\phi{\\left(\\tau \\right)}\\right)^{2} + r^{2}{\\left(\\tau \\right)} \\frac{d^{2}}{d \\tau^{2}} \\theta{\\left(\\tau \\right)} + 2 r{\\left(\\tau \\right)} \\frac{d}{d \\tau} \\theta{\\left(\\tau \\right)} \\frac{d}{d \\tau} r{\\left(\\tau \\right)}\\\\r^{2}{\\left(\\tau \\right)} \\sin^{2}{\\left(\\theta{\\left(\\tau \\right)} \\right)} \\frac{d^{2}}{d \\tau^{2}} \\phi{\\left(\\tau \\right)} + 2 r^{2}{\\left(\\tau \\right)} \\sin{\\left(\\theta{\\left(\\tau \\right)} \\right)} \\cos{\\left(\\theta{\\left(\\tau \\right)} \\right)} \\frac{d}{d \\tau} \\phi{\\left(\\tau \\right)} \\frac{d}{d \\tau} \\theta{\\left(\\tau \\right)} + 2 r{\\left(\\tau \\right)} \\sin^{2}{\\left(\\theta{\\left(\\tau \\right)} \\right)} \\frac{d}{d \\tau} \\phi{\\left(\\tau \\right)} \\frac{d}{d \\tau} r{\\left(\\tau \\right)}\\end{matrix}\\right]$"
      ],
      "text/plain": [
       "⎡                                                                         d   \n",
       "⎢                                                                   2⋅M⋅─────(\n",
       "⎢                                                                       d\\tau \n",
       "⎢                                                                 - ──────────\n",
       "⎢                                                                             \n",
       "⎢                                                                             \n",
       "⎢                                                                             \n",
       "⎢                                                                             \n",
       "⎢                                          2                        2         \n",
       "⎢                          ⎛  d           ⎞         ⎛  d           ⎞          \n",
       "⎢                        M⋅⎜─────(t(\\tau))⎟       M⋅⎜─────(r(\\tau))⎟          \n",
       "⎢                          ⎝d\\tau         ⎠         ⎝d\\tau         ⎠          \n",
       "⎢                        ─────────────────── - ───────────────────────── - r(\\\n",
       "⎢                               2                             2               \n",
       "⎢                              r (\\tau)        ⎛    2⋅M      ⎞   2            \n",
       "⎢                                              ⎜- ─────── + 1⎟ ⋅r (\\tau)      \n",
       "⎢                                              ⎝  r(\\tau)    ⎠                \n",
       "⎢                                                                             \n",
       "⎢                                                                             \n",
       "⎢                            2                                           ⎛  d \n",
       "⎢                         - r (\\tau)⋅sin(\\theta(\\tau))⋅cos(\\theta(\\tau))⋅⎜────\n",
       "⎢                                                                        ⎝d\\ta\n",
       "⎢                                                                             \n",
       "⎢                                                                             \n",
       "⎢                               2                                             \n",
       "⎢ 2          2                 d                     2                        \n",
       "⎢r (\\tau)⋅sin (\\theta(\\tau))⋅──────(\\phi(\\tau)) + 2⋅r (\\tau)⋅sin(\\theta(\\tau))\n",
       "⎢                                 2                                           \n",
       "⎣                            d\\tau                                            \n",
       "\n",
       "           d                                                                  \n",
       "r(\\tau))⋅─────(t(\\tau))                    2                                  \n",
       "         d\\tau            ⎛  2⋅M      ⎞   d                                   \n",
       "─────────────────────── + ⎜─────── - 1⎟⋅──────(t(\\tau))                       \n",
       "    2                     ⎝r(\\tau)    ⎠      2                                \n",
       "   r (\\tau)                             d\\tau                                 \n",
       "                                                                              \n",
       "                                                                              \n",
       "                                                                              \n",
       "                                                                              \n",
       "                                           2                                2 \n",
       "        2               ⎛  d              ⎞            ⎛  d                ⎞  \n",
       "tau)⋅sin (\\theta(\\tau))⋅⎜─────(\\phi(\\tau))⎟  - r(\\tau)⋅⎜─────(\\theta(\\tau))⎟  \n",
       "                        ⎝d\\tau            ⎠            ⎝d\\tau              ⎠  \n",
       "                                                                              \n",
       "                                                                              \n",
       "                                                                              \n",
       "                                                                              \n",
       "              2               2                                               \n",
       "             ⎞     2         d                                d               \n",
       "─(\\phi(\\tau))⎟  + r (\\tau)⋅──────(\\theta(\\tau)) + 2⋅r(\\tau)⋅─────(\\theta(\\tau)\n",
       "u            ⎠                  2                           d\\tau             \n",
       "                           d\\tau                                              \n",
       "                                                                              \n",
       "                                                                              \n",
       "                     d                 d                                2     \n",
       "⋅cos(\\theta(\\tau))⋅─────(\\phi(\\tau))⋅─────(\\theta(\\tau)) + 2⋅r(\\tau)⋅sin (\\the\n",
       "                   d\\tau             d\\tau                                    \n",
       "                                                                              \n",
       "\n",
       "                                          ⎤\n",
       "                                          ⎥\n",
       "                                          ⎥\n",
       "                                          ⎥\n",
       "                                          ⎥\n",
       "                                          ⎥\n",
       "                                          ⎥\n",
       "     2                                    ⎥\n",
       "    d                                     ⎥\n",
       "  ──────(r(\\tau))                         ⎥\n",
       "       2                                  ⎥\n",
       "  d\\tau                                   ⎥\n",
       "+ ───────────────                         ⎥\n",
       "       2⋅M                                ⎥\n",
       "   - ─────── + 1                          ⎥\n",
       "     r(\\tau)                              ⎥\n",
       "                                          ⎥\n",
       "                                          ⎥\n",
       "                                          ⎥\n",
       "    d                                     ⎥\n",
       ")⋅─────(r(\\tau))                          ⎥\n",
       "  d\\tau                                   ⎥\n",
       "                                          ⎥\n",
       "                                          ⎥\n",
       "                                          ⎥\n",
       "            d                 d           ⎥\n",
       "ta(\\tau))⋅─────(\\phi(\\tau))⋅─────(r(\\tau))⎥\n",
       "          d\\tau             d\\tau         ⎥\n",
       "                                          ⎦"
      ]
     },
     "execution_count": 8,
     "metadata": {},
     "output_type": "execute_result"
    }
   ],
   "source": [
    "w(All).transpose()"
   ]
  },
  {
   "cell_type": "code",
   "execution_count": null,
   "metadata": {},
   "outputs": [],
   "source": []
  }
 ],
 "metadata": {
  "kernelspec": {
   "display_name": "Python 3",
   "language": "python",
   "name": "python3"
  },
  "language_info": {
   "codemirror_mode": {
    "name": "ipython",
    "version": 3
   },
   "file_extension": ".py",
   "mimetype": "text/x-python",
   "name": "python",
   "nbconvert_exporter": "python",
   "pygments_lexer": "ipython3",
   "version": "3.7.6"
  }
 },
 "nbformat": 4,
 "nbformat_minor": 2
}
